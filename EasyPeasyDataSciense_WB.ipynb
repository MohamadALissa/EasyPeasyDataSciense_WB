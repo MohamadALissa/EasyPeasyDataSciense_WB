{
  "nbformat": 4,
  "nbformat_minor": 0,
  "metadata": {
    "colab": {
      "name": "EasyPeasyDataSciense_WB.ipynb",
      "provenance": [],
      "collapsed_sections": []
    },
    "kernelspec": {
      "name": "python3",
      "display_name": "Python 3"
    },
    "language_info": {
      "name": "python"
    },
    "widgets": {
      "application/vnd.jupyter.widget-state+json": {
        "bb71abaaa70241b280e288226f07dbb4": {
          "model_module": "@jupyter-widgets/controls",
          "model_name": "VBoxModel",
          "model_module_version": "1.5.0",
          "state": {
            "_dom_classes": [],
            "_model_module": "@jupyter-widgets/controls",
            "_model_module_version": "1.5.0",
            "_model_name": "VBoxModel",
            "_view_count": null,
            "_view_module": "@jupyter-widgets/controls",
            "_view_module_version": "1.5.0",
            "_view_name": "VBoxView",
            "box_style": "",
            "children": [
              "IPY_MODEL_12eba141301144659e1c27fb3dfe306b",
              "IPY_MODEL_b48b2376a57b4bea9642f49ef778aacd"
            ],
            "layout": "IPY_MODEL_572c6007d7494bf5a30299755921f34b"
          }
        },
        "12eba141301144659e1c27fb3dfe306b": {
          "model_module": "@jupyter-widgets/controls",
          "model_name": "LabelModel",
          "model_module_version": "1.5.0",
          "state": {
            "_dom_classes": [],
            "_model_module": "@jupyter-widgets/controls",
            "_model_module_version": "1.5.0",
            "_model_name": "LabelModel",
            "_view_count": null,
            "_view_module": "@jupyter-widgets/controls",
            "_view_module_version": "1.5.0",
            "_view_name": "LabelView",
            "description": "",
            "description_tooltip": null,
            "layout": "IPY_MODEL_cc98252b6b0047b991896df3bea3693b",
            "placeholder": "​",
            "style": "IPY_MODEL_6787174461a642c8a149ecc6b1171aac",
            "value": "0.070 MB of 0.070 MB uploaded (0.000 MB deduped)\r"
          }
        },
        "b48b2376a57b4bea9642f49ef778aacd": {
          "model_module": "@jupyter-widgets/controls",
          "model_name": "FloatProgressModel",
          "model_module_version": "1.5.0",
          "state": {
            "_dom_classes": [],
            "_model_module": "@jupyter-widgets/controls",
            "_model_module_version": "1.5.0",
            "_model_name": "FloatProgressModel",
            "_view_count": null,
            "_view_module": "@jupyter-widgets/controls",
            "_view_module_version": "1.5.0",
            "_view_name": "ProgressView",
            "bar_style": "",
            "description": "",
            "description_tooltip": null,
            "layout": "IPY_MODEL_9671c28e4e0a434db8b5074bcbda5249",
            "max": 1,
            "min": 0,
            "orientation": "horizontal",
            "style": "IPY_MODEL_0eb61ae2951247d2ab5e2ef9e51f4e6b",
            "value": 1
          }
        },
        "572c6007d7494bf5a30299755921f34b": {
          "model_module": "@jupyter-widgets/base",
          "model_name": "LayoutModel",
          "model_module_version": "1.2.0",
          "state": {
            "_model_module": "@jupyter-widgets/base",
            "_model_module_version": "1.2.0",
            "_model_name": "LayoutModel",
            "_view_count": null,
            "_view_module": "@jupyter-widgets/base",
            "_view_module_version": "1.2.0",
            "_view_name": "LayoutView",
            "align_content": null,
            "align_items": null,
            "align_self": null,
            "border": null,
            "bottom": null,
            "display": null,
            "flex": null,
            "flex_flow": null,
            "grid_area": null,
            "grid_auto_columns": null,
            "grid_auto_flow": null,
            "grid_auto_rows": null,
            "grid_column": null,
            "grid_gap": null,
            "grid_row": null,
            "grid_template_areas": null,
            "grid_template_columns": null,
            "grid_template_rows": null,
            "height": null,
            "justify_content": null,
            "justify_items": null,
            "left": null,
            "margin": null,
            "max_height": null,
            "max_width": null,
            "min_height": null,
            "min_width": null,
            "object_fit": null,
            "object_position": null,
            "order": null,
            "overflow": null,
            "overflow_x": null,
            "overflow_y": null,
            "padding": null,
            "right": null,
            "top": null,
            "visibility": null,
            "width": null
          }
        },
        "cc98252b6b0047b991896df3bea3693b": {
          "model_module": "@jupyter-widgets/base",
          "model_name": "LayoutModel",
          "model_module_version": "1.2.0",
          "state": {
            "_model_module": "@jupyter-widgets/base",
            "_model_module_version": "1.2.0",
            "_model_name": "LayoutModel",
            "_view_count": null,
            "_view_module": "@jupyter-widgets/base",
            "_view_module_version": "1.2.0",
            "_view_name": "LayoutView",
            "align_content": null,
            "align_items": null,
            "align_self": null,
            "border": null,
            "bottom": null,
            "display": null,
            "flex": null,
            "flex_flow": null,
            "grid_area": null,
            "grid_auto_columns": null,
            "grid_auto_flow": null,
            "grid_auto_rows": null,
            "grid_column": null,
            "grid_gap": null,
            "grid_row": null,
            "grid_template_areas": null,
            "grid_template_columns": null,
            "grid_template_rows": null,
            "height": null,
            "justify_content": null,
            "justify_items": null,
            "left": null,
            "margin": null,
            "max_height": null,
            "max_width": null,
            "min_height": null,
            "min_width": null,
            "object_fit": null,
            "object_position": null,
            "order": null,
            "overflow": null,
            "overflow_x": null,
            "overflow_y": null,
            "padding": null,
            "right": null,
            "top": null,
            "visibility": null,
            "width": null
          }
        },
        "6787174461a642c8a149ecc6b1171aac": {
          "model_module": "@jupyter-widgets/controls",
          "model_name": "DescriptionStyleModel",
          "model_module_version": "1.5.0",
          "state": {
            "_model_module": "@jupyter-widgets/controls",
            "_model_module_version": "1.5.0",
            "_model_name": "DescriptionStyleModel",
            "_view_count": null,
            "_view_module": "@jupyter-widgets/base",
            "_view_module_version": "1.2.0",
            "_view_name": "StyleView",
            "description_width": ""
          }
        },
        "9671c28e4e0a434db8b5074bcbda5249": {
          "model_module": "@jupyter-widgets/base",
          "model_name": "LayoutModel",
          "model_module_version": "1.2.0",
          "state": {
            "_model_module": "@jupyter-widgets/base",
            "_model_module_version": "1.2.0",
            "_model_name": "LayoutModel",
            "_view_count": null,
            "_view_module": "@jupyter-widgets/base",
            "_view_module_version": "1.2.0",
            "_view_name": "LayoutView",
            "align_content": null,
            "align_items": null,
            "align_self": null,
            "border": null,
            "bottom": null,
            "display": null,
            "flex": null,
            "flex_flow": null,
            "grid_area": null,
            "grid_auto_columns": null,
            "grid_auto_flow": null,
            "grid_auto_rows": null,
            "grid_column": null,
            "grid_gap": null,
            "grid_row": null,
            "grid_template_areas": null,
            "grid_template_columns": null,
            "grid_template_rows": null,
            "height": null,
            "justify_content": null,
            "justify_items": null,
            "left": null,
            "margin": null,
            "max_height": null,
            "max_width": null,
            "min_height": null,
            "min_width": null,
            "object_fit": null,
            "object_position": null,
            "order": null,
            "overflow": null,
            "overflow_x": null,
            "overflow_y": null,
            "padding": null,
            "right": null,
            "top": null,
            "visibility": null,
            "width": null
          }
        },
        "0eb61ae2951247d2ab5e2ef9e51f4e6b": {
          "model_module": "@jupyter-widgets/controls",
          "model_name": "ProgressStyleModel",
          "model_module_version": "1.5.0",
          "state": {
            "_model_module": "@jupyter-widgets/controls",
            "_model_module_version": "1.5.0",
            "_model_name": "ProgressStyleModel",
            "_view_count": null,
            "_view_module": "@jupyter-widgets/base",
            "_view_module_version": "1.2.0",
            "_view_name": "StyleView",
            "bar_color": null,
            "description_width": ""
          }
        }
      }
    }
  },
  "cells": [
    {
      "cell_type": "markdown",
      "source": [
        "# Install Weights & Biases library"
      ],
      "metadata": {
        "id": "1NDro-SfxXDF"
      }
    },
    {
      "cell_type": "code",
      "execution_count": 1,
      "metadata": {
        "colab": {
          "base_uri": "https://localhost:8080/"
        },
        "id": "IPoW3J99h2rK",
        "outputId": "a1f4a3be-19af-4f1b-c0df-59c825618a35"
      },
      "outputs": [
        {
          "output_type": "stream",
          "name": "stdout",
          "text": [
            "\u001b[K     |████████████████████████████████| 1.8 MB 31.7 MB/s \n",
            "\u001b[K     |████████████████████████████████| 181 kB 57.1 MB/s \n",
            "\u001b[K     |████████████████████████████████| 145 kB 60.4 MB/s \n",
            "\u001b[K     |████████████████████████████████| 63 kB 1.8 MB/s \n",
            "\u001b[?25h  Building wheel for pathtools (setup.py) ... \u001b[?25l\u001b[?25hdone\n"
          ]
        }
      ],
      "source": [
        "!pip install wandb -qqq\n",
        "import wandb"
      ]
    },
    {
      "cell_type": "markdown",
      "source": [
        "# Generate dummy data\n",
        "Here we generate some dummy inputs and outputs as an example\n",
        "* Inputs with shape (90, 10) which means 90 data points (or rows) and each data point has 10 features.\n",
        "* Outputs with shape (90,) which means 90 labels with values from the list [0, 1, 2]."
      ],
      "metadata": {
        "id": "SDlFXWUsxjrr"
      }
    },
    {
      "cell_type": "code",
      "source": [
        "from sklearn.model_selection import train_test_split\n",
        "import numpy as np\n",
        "np.random.seed(123)\n",
        "X = np.random.randint(low=1, high=100, size=(100,10))\n",
        "y = np.random.randint(low= 0, high=3, size = 100)\n",
        "X_train,X_test,y_train,y_test = train_test_split(X,y,test_size = 0.1)\n",
        "print('Input Shape', X_train.shape)\n",
        "print('Output Shape', y_train.shape)"
      ],
      "metadata": {
        "colab": {
          "base_uri": "https://localhost:8080/"
        },
        "id": "QLcxjnEtkMfh",
        "outputId": "5d92f03c-67d6-4b9c-bc16-c3fd8325a884"
      },
      "execution_count": 29,
      "outputs": [
        {
          "output_type": "stream",
          "name": "stdout",
          "text": [
            "Input Shape (90, 10)\n",
            "Output Shape (90,)\n"
          ]
        }
      ]
    },
    {
      "cell_type": "markdown",
      "source": [
        "# Define the parameters you like to track\n",
        "Here you put the hyper-parameters and their values you like to track"
      ],
      "metadata": {
        "id": "m2qckIdwxuRH"
      }
    },
    {
      "cell_type": "code",
      "source": [
        "wandb.init(project=\"EasyPeasyDataSciense_WB\", entity=\"drmohamadalissa\") # <--- put your prjoect name and your Weights&Biases username\n",
        "\n",
        "wandb.config = {\n",
        "  # model architecture paramters\n",
        "  \"first_layer_neurons\": 64,\n",
        "  \"second_layer_neurons\": 32,\n",
        "\n",
        "  # model training parameters\n",
        "  \"epochs\": 100,\n",
        "  \"batch_size\": 8,\n",
        "\n",
        "  # compile paramters\n",
        "  \"metrics\": ['accuracy'],\n",
        "  \"optimizer\": 'adam',\n",
        "  \"loss\": 'sparse_categorical_crossentropy'\n",
        "}\n",
        "\n",
        "config = wandb.config "
      ],
      "metadata": {
        "colab": {
          "base_uri": "https://localhost:8080/",
          "height": 419,
          "referenced_widgets": [
            "bb71abaaa70241b280e288226f07dbb4",
            "12eba141301144659e1c27fb3dfe306b",
            "b48b2376a57b4bea9642f49ef778aacd",
            "572c6007d7494bf5a30299755921f34b",
            "cc98252b6b0047b991896df3bea3693b",
            "6787174461a642c8a149ecc6b1171aac",
            "9671c28e4e0a434db8b5074bcbda5249",
            "0eb61ae2951247d2ab5e2ef9e51f4e6b"
          ]
        },
        "id": "iqe-2wPDiGUQ",
        "outputId": "3de7a075-c1d4-42cf-bfdc-d23b5e281357"
      },
      "execution_count": 23,
      "outputs": [
        {
          "output_type": "display_data",
          "data": {
            "text/plain": [
              "<IPython.core.display.HTML object>"
            ],
            "text/html": [
              "Finishing last run (ID:2ud9j1h7) before initializing another..."
            ]
          },
          "metadata": {}
        },
        {
          "output_type": "display_data",
          "data": {
            "text/plain": [
              "<IPython.core.display.HTML object>"
            ],
            "text/html": [
              "Waiting for W&B process to finish... <strong style=\"color:green\">(success).</strong>"
            ]
          },
          "metadata": {}
        },
        {
          "output_type": "display_data",
          "data": {
            "text/plain": [
              "VBox(children=(Label(value='0.043 MB of 0.043 MB uploaded (0.000 MB deduped)\\r'), FloatProgress(value=1.0, max…"
            ],
            "application/vnd.jupyter.widget-view+json": {
              "version_major": 2,
              "version_minor": 0,
              "model_id": "bb71abaaa70241b280e288226f07dbb4"
            }
          },
          "metadata": {}
        },
        {
          "output_type": "display_data",
          "data": {
            "text/plain": [
              "<IPython.core.display.HTML object>"
            ],
            "text/html": [
              "<style>\n",
              "    table.wandb td:nth-child(1) { padding: 0 10px; text-align: left ; width: auto;} td:nth-child(2) {text-align: left ; width: 100%}\n",
              "    .wandb-row { display: flex; flex-direction: row; flex-wrap: wrap; justify-content: flex-start; width: 100% }\n",
              "    .wandb-col { display: flex; flex-direction: column; flex-basis: 100%; flex: 1; padding: 10px; }\n",
              "    </style>\n",
              "<div class=\"wandb-row\"><div class=\"wandb-col\"><h3>Run history:</h3><br/><table class=\"wandb\"><tr><td>accuracy</td><td>▁▁▃▄▄▄▄▄▄▄▄▅▅▄▅▅▅▅▆▆▆▆▆▆▆▇▇▆▇▇▇▇▇▇█▇▇███</td></tr><tr><td>epoch</td><td>▁▁▁▁▂▂▂▂▂▃▃▃▃▃▃▄▄▄▄▄▅▅▅▅▅▅▆▆▆▆▆▇▇▇▇▇▇███</td></tr><tr><td>loss</td><td>█▅▃▃▃▂▂▂▂▂▂▂▁▁▁▁▁▁▁▁▁▁▁▁▁▁▁▁▁▁▁▁▁▁▁▁▁▁▁▁</td></tr><tr><td>val_accuracy</td><td>▃▁█▆▃▃▆▆▆▆▆▆▆▆▆▆▃█▆▆▆▆▆▆▆▆▆▆▆▆▆▆▆▆▆▆▆▆▆▆</td></tr><tr><td>val_loss</td><td>█▅▃▃▃▃▃▂▂▂▂▂▂▂▂▂▁▁▁▁▁▁▁▁▁▁▁▁▁▁▁▁▁▁▁▁▁▁▁▁</td></tr></table><br/></div><div class=\"wandb-col\"><h3>Run summary:</h3><br/><table class=\"wandb\"><tr><td>accuracy</td><td>0.76667</td></tr><tr><td>best_epoch</td><td>94</td></tr><tr><td>best_val_loss</td><td>1.58339</td></tr><tr><td>epoch</td><td>99</td></tr><tr><td>loss</td><td>0.55219</td></tr><tr><td>val_accuracy</td><td>0.4</td></tr><tr><td>val_loss</td><td>1.64494</td></tr></table><br/></div></div>"
            ]
          },
          "metadata": {}
        },
        {
          "output_type": "display_data",
          "data": {
            "text/plain": [
              "<IPython.core.display.HTML object>"
            ],
            "text/html": [
              "Synced <strong style=\"color:#cdcd00\">frosty-spaceship-2</strong>: <a href=\"https://wandb.ai/drmohamadalissa/EasyPeasyDataSciense_WB/runs/2ud9j1h7\" target=\"_blank\">https://wandb.ai/drmohamadalissa/EasyPeasyDataSciense_WB/runs/2ud9j1h7</a><br/>Synced 5 W&B file(s), 1 media file(s), 0 artifact file(s) and 1 other file(s)"
            ]
          },
          "metadata": {}
        },
        {
          "output_type": "display_data",
          "data": {
            "text/plain": [
              "<IPython.core.display.HTML object>"
            ],
            "text/html": [
              "Find logs at: <code>./wandb/run-20220604_215022-2ud9j1h7/logs</code>"
            ]
          },
          "metadata": {}
        },
        {
          "output_type": "display_data",
          "data": {
            "text/plain": [
              "<IPython.core.display.HTML object>"
            ],
            "text/html": [
              "Successfully finished last run (ID:2ud9j1h7). Initializing new run:<br/>"
            ]
          },
          "metadata": {}
        },
        {
          "output_type": "display_data",
          "data": {
            "text/plain": [
              "<IPython.core.display.HTML object>"
            ],
            "text/html": [
              "Tracking run with wandb version 0.12.17"
            ]
          },
          "metadata": {}
        },
        {
          "output_type": "display_data",
          "data": {
            "text/plain": [
              "<IPython.core.display.HTML object>"
            ],
            "text/html": [
              "Run data is saved locally in <code>/content/wandb/run-20220604_215233-puw88atc</code>"
            ]
          },
          "metadata": {}
        },
        {
          "output_type": "display_data",
          "data": {
            "text/plain": [
              "<IPython.core.display.HTML object>"
            ],
            "text/html": [
              "Syncing run <strong><a href=\"https://wandb.ai/drmohamadalissa/EasyPeasyDataSciense_WB/runs/puw88atc\" target=\"_blank\">ethereal-oath-3</a></strong> to <a href=\"https://wandb.ai/drmohamadalissa/EasyPeasyDataSciense_WB\" target=\"_blank\">Weights & Biases</a> (<a href=\"https://wandb.me/run\" target=\"_blank\">docs</a>)<br/>"
            ]
          },
          "metadata": {}
        }
      ]
    },
    {
      "cell_type": "markdown",
      "source": [
        "# Define a simple neural network\n",
        "Notice how the number of neurons in the first and second layers are taken from the config dictionary defined in the previous step"
      ],
      "metadata": {
        "id": "ngkbg54syIkp"
      }
    },
    {
      "cell_type": "code",
      "source": [
        "from wandb.keras import WandbCallback\n",
        "from tensorflow.keras import Sequential\n",
        "from tensorflow.keras.layers import Dense\n",
        "\n",
        "# Neural network\n",
        "model = Sequential()\n",
        "model.add(Dense(config['first_layer_neurons'], input_dim=10, activation='relu'))\n",
        "model.add(Dense(config['second_layer_neurons'], activation='relu'))\n",
        "model.add(Dense(max(y)+1, activation='sigmoid'))"
      ],
      "metadata": {
        "id": "hp19JbPkjZWa"
      },
      "execution_count": 24,
      "outputs": []
    },
    {
      "cell_type": "markdown",
      "source": [
        "# Compile the model\n",
        "Note the loss, optimizer and metrics values are taken from config dictionary."
      ],
      "metadata": {
        "id": "Gx6dPfiEyOM9"
      }
    },
    {
      "cell_type": "code",
      "source": [
        "model.compile(loss= config[\"loss\"],\n",
        "              optimizer= config[\"optimizer\"],\n",
        "              metrics= config[\"metrics\"])"
      ],
      "metadata": {
        "id": "mVkb_CPZlzKq"
      },
      "execution_count": 25,
      "outputs": []
    },
    {
      "cell_type": "markdown",
      "source": [
        "# Train the model\n",
        "Note the epochs and batch size values are taken from config dictionary.\n",
        "Also, we have to use **WandbCallback** to make the wandb library track the changes during the model training."
      ],
      "metadata": {
        "id": "13M_xzXDyRr-"
      }
    },
    {
      "cell_type": "code",
      "source": [
        "model.fit(X_train, y_train,\n",
        "          validation_data= (X_test, y_test),\n",
        "          epochs= config['epochs'],\n",
        "          batch_size = config['batch_size'],\n",
        "          callbacks= [WandbCallback()])"
      ],
      "metadata": {
        "colab": {
          "base_uri": "https://localhost:8080/"
        },
        "id": "vjbW_R6PjKgk",
        "outputId": "8041632b-571b-4bf3-e993-3fc8fdb7dc05"
      },
      "execution_count": 26,
      "outputs": [
        {
          "output_type": "stream",
          "name": "stdout",
          "text": [
            "Epoch 1/100\n",
            "12/12 [==============================] - 1s 22ms/step - loss: 15.5435 - accuracy: 0.3111 - val_loss: 4.6056 - val_accuracy: 0.5000 - _timestamp: 1654379562.0000 - _runtime: 5.0000\n",
            "Epoch 2/100\n",
            "12/12 [==============================] - 0s 4ms/step - loss: 7.6386 - accuracy: 0.4333 - val_loss: 6.6692 - val_accuracy: 0.4000 - _timestamp: 1654379562.0000 - _runtime: 5.0000\n",
            "Epoch 3/100\n",
            "12/12 [==============================] - 0s 4ms/step - loss: 5.5331 - accuracy: 0.4667 - val_loss: 6.2992 - val_accuracy: 0.2000 - _timestamp: 1654379562.0000 - _runtime: 5.0000\n",
            "Epoch 4/100\n",
            "12/12 [==============================] - 0s 6ms/step - loss: 4.1293 - accuracy: 0.4889 - val_loss: 5.9073 - val_accuracy: 0.3000 - _timestamp: 1654379563.0000 - _runtime: 6.0000\n",
            "Epoch 5/100\n",
            "12/12 [==============================] - 0s 5ms/step - loss: 2.8585 - accuracy: 0.5778 - val_loss: 5.0358 - val_accuracy: 0.4000 - _timestamp: 1654379563.0000 - _runtime: 6.0000\n",
            "Epoch 6/100\n",
            "12/12 [==============================] - 0s 5ms/step - loss: 2.2978 - accuracy: 0.6000 - val_loss: 4.6824 - val_accuracy: 0.5000 - _timestamp: 1654379563.0000 - _runtime: 6.0000\n",
            "Epoch 7/100\n",
            "12/12 [==============================] - 0s 4ms/step - loss: 1.8563 - accuracy: 0.6222 - val_loss: 4.8766 - val_accuracy: 0.4000 - _timestamp: 1654379563.0000 - _runtime: 6.0000\n",
            "Epoch 8/100\n",
            "12/12 [==============================] - 0s 6ms/step - loss: 1.5664 - accuracy: 0.6333 - val_loss: 5.3643 - val_accuracy: 0.3000 - _timestamp: 1654379563.0000 - _runtime: 6.0000\n",
            "Epoch 9/100\n",
            "12/12 [==============================] - 0s 5ms/step - loss: 1.5240 - accuracy: 0.6556 - val_loss: 5.8353 - val_accuracy: 0.3000 - _timestamp: 1654379563.0000 - _runtime: 6.0000\n",
            "Epoch 10/100\n",
            "12/12 [==============================] - 0s 7ms/step - loss: 1.4003 - accuracy: 0.6778 - val_loss: 4.5220 - val_accuracy: 0.3000 - _timestamp: 1654379563.0000 - _runtime: 6.0000\n",
            "Epoch 11/100\n",
            "12/12 [==============================] - 0s 5ms/step - loss: 1.2835 - accuracy: 0.6333 - val_loss: 5.4501 - val_accuracy: 0.3000 - _timestamp: 1654379563.0000 - _runtime: 6.0000\n",
            "Epoch 12/100\n",
            "12/12 [==============================] - 0s 5ms/step - loss: 0.9416 - accuracy: 0.7333 - val_loss: 5.5089 - val_accuracy: 0.3000 - _timestamp: 1654379563.0000 - _runtime: 6.0000\n",
            "Epoch 13/100\n",
            "12/12 [==============================] - 0s 6ms/step - loss: 0.8076 - accuracy: 0.7556 - val_loss: 4.2139 - val_accuracy: 0.5000 - _timestamp: 1654379563.0000 - _runtime: 6.0000\n",
            "Epoch 14/100\n",
            "12/12 [==============================] - 0s 6ms/step - loss: 0.6405 - accuracy: 0.8222 - val_loss: 4.7520 - val_accuracy: 0.4000 - _timestamp: 1654379563.0000 - _runtime: 6.0000\n",
            "Epoch 15/100\n",
            "12/12 [==============================] - 0s 4ms/step - loss: 0.6253 - accuracy: 0.7778 - val_loss: 4.8739 - val_accuracy: 0.4000 - _timestamp: 1654379563.0000 - _runtime: 6.0000\n",
            "Epoch 16/100\n",
            "12/12 [==============================] - 0s 4ms/step - loss: 0.5160 - accuracy: 0.7889 - val_loss: 4.6400 - val_accuracy: 0.4000 - _timestamp: 1654379563.0000 - _runtime: 6.0000\n",
            "Epoch 17/100\n",
            "12/12 [==============================] - 0s 4ms/step - loss: 0.6453 - accuracy: 0.7778 - val_loss: 5.2963 - val_accuracy: 0.3000 - _timestamp: 1654379563.0000 - _runtime: 6.0000\n",
            "Epoch 18/100\n",
            "12/12 [==============================] - 0s 6ms/step - loss: 0.4633 - accuracy: 0.8444 - val_loss: 4.0803 - val_accuracy: 0.5000 - _timestamp: 1654379564.0000 - _runtime: 7.0000\n",
            "Epoch 19/100\n",
            "12/12 [==============================] - 0s 4ms/step - loss: 0.3658 - accuracy: 0.8444 - val_loss: 4.3320 - val_accuracy: 0.5000 - _timestamp: 1654379564.0000 - _runtime: 7.0000\n",
            "Epoch 20/100\n",
            "12/12 [==============================] - 0s 4ms/step - loss: 0.2673 - accuracy: 0.9000 - val_loss: 4.2880 - val_accuracy: 0.5000 - _timestamp: 1654379564.0000 - _runtime: 7.0000\n",
            "Epoch 21/100\n",
            "12/12 [==============================] - 0s 4ms/step - loss: 0.2439 - accuracy: 0.9111 - val_loss: 4.6255 - val_accuracy: 0.3000 - _timestamp: 1654379564.0000 - _runtime: 7.0000\n",
            "Epoch 22/100\n",
            "12/12 [==============================] - 0s 5ms/step - loss: 0.1766 - accuracy: 0.9333 - val_loss: 4.3364 - val_accuracy: 0.4000 - _timestamp: 1654379564.0000 - _runtime: 7.0000\n",
            "Epoch 23/100\n",
            "12/12 [==============================] - 0s 5ms/step - loss: 0.1782 - accuracy: 0.9556 - val_loss: 4.5936 - val_accuracy: 0.3000 - _timestamp: 1654379564.0000 - _runtime: 7.0000\n",
            "Epoch 24/100\n",
            "12/12 [==============================] - 0s 5ms/step - loss: 0.1509 - accuracy: 0.9667 - val_loss: 4.3479 - val_accuracy: 0.4000 - _timestamp: 1654379564.0000 - _runtime: 7.0000\n",
            "Epoch 25/100\n",
            "12/12 [==============================] - 0s 5ms/step - loss: 0.1274 - accuracy: 0.9889 - val_loss: 4.3716 - val_accuracy: 0.4000 - _timestamp: 1654379564.0000 - _runtime: 7.0000\n",
            "Epoch 26/100\n",
            "12/12 [==============================] - 0s 4ms/step - loss: 0.1222 - accuracy: 0.9889 - val_loss: 4.3968 - val_accuracy: 0.4000 - _timestamp: 1654379564.0000 - _runtime: 7.0000\n",
            "Epoch 27/100\n",
            "12/12 [==============================] - 0s 5ms/step - loss: 0.1079 - accuracy: 0.9889 - val_loss: 4.1346 - val_accuracy: 0.4000 - _timestamp: 1654379564.0000 - _runtime: 7.0000\n",
            "Epoch 28/100\n",
            "12/12 [==============================] - 0s 4ms/step - loss: 0.0935 - accuracy: 1.0000 - val_loss: 4.4591 - val_accuracy: 0.4000 - _timestamp: 1654379564.0000 - _runtime: 7.0000\n",
            "Epoch 29/100\n",
            "12/12 [==============================] - 0s 4ms/step - loss: 0.1056 - accuracy: 0.9778 - val_loss: 4.4099 - val_accuracy: 0.3000 - _timestamp: 1654379564.0000 - _runtime: 7.0000\n",
            "Epoch 30/100\n",
            "12/12 [==============================] - 0s 7ms/step - loss: 0.0875 - accuracy: 1.0000 - val_loss: 4.3549 - val_accuracy: 0.3000 - _timestamp: 1654379564.0000 - _runtime: 7.0000\n",
            "Epoch 31/100\n",
            "12/12 [==============================] - 0s 4ms/step - loss: 0.0919 - accuracy: 0.9889 - val_loss: 4.3211 - val_accuracy: 0.3000 - _timestamp: 1654379564.0000 - _runtime: 7.0000\n",
            "Epoch 32/100\n",
            "12/12 [==============================] - 0s 4ms/step - loss: 0.0742 - accuracy: 1.0000 - val_loss: 4.2041 - val_accuracy: 0.4000 - _timestamp: 1654379564.0000 - _runtime: 7.0000\n",
            "Epoch 33/100\n",
            "12/12 [==============================] - 0s 6ms/step - loss: 0.0756 - accuracy: 1.0000 - val_loss: 4.3428 - val_accuracy: 0.3000 - _timestamp: 1654379565.0000 - _runtime: 8.0000\n",
            "Epoch 34/100\n",
            "12/12 [==============================] - 0s 4ms/step - loss: 0.0583 - accuracy: 1.0000 - val_loss: 4.4021 - val_accuracy: 0.3000 - _timestamp: 1654379565.0000 - _runtime: 8.0000\n",
            "Epoch 35/100\n",
            "12/12 [==============================] - 0s 4ms/step - loss: 0.0580 - accuracy: 1.0000 - val_loss: 4.5229 - val_accuracy: 0.3000 - _timestamp: 1654379565.0000 - _runtime: 8.0000\n",
            "Epoch 36/100\n",
            "12/12 [==============================] - 0s 4ms/step - loss: 0.0575 - accuracy: 1.0000 - val_loss: 4.3695 - val_accuracy: 0.4000 - _timestamp: 1654379565.0000 - _runtime: 8.0000\n",
            "Epoch 37/100\n",
            "12/12 [==============================] - 0s 5ms/step - loss: 0.0580 - accuracy: 1.0000 - val_loss: 4.4428 - val_accuracy: 0.3000 - _timestamp: 1654379565.0000 - _runtime: 8.0000\n",
            "Epoch 38/100\n",
            "12/12 [==============================] - 0s 5ms/step - loss: 0.0519 - accuracy: 1.0000 - val_loss: 4.5064 - val_accuracy: 0.3000 - _timestamp: 1654379565.0000 - _runtime: 8.0000\n",
            "Epoch 39/100\n",
            "12/12 [==============================] - 0s 4ms/step - loss: 0.0522 - accuracy: 1.0000 - val_loss: 4.4575 - val_accuracy: 0.3000 - _timestamp: 1654379565.0000 - _runtime: 8.0000\n",
            "Epoch 40/100\n",
            "12/12 [==============================] - 0s 4ms/step - loss: 0.0463 - accuracy: 1.0000 - val_loss: 4.5406 - val_accuracy: 0.3000 - _timestamp: 1654379565.0000 - _runtime: 8.0000\n",
            "Epoch 41/100\n",
            "12/12 [==============================] - 0s 5ms/step - loss: 0.0473 - accuracy: 1.0000 - val_loss: 4.4959 - val_accuracy: 0.3000 - _timestamp: 1654379565.0000 - _runtime: 8.0000\n",
            "Epoch 42/100\n",
            "12/12 [==============================] - 0s 4ms/step - loss: 0.0452 - accuracy: 1.0000 - val_loss: 4.6313 - val_accuracy: 0.3000 - _timestamp: 1654379565.0000 - _runtime: 8.0000\n",
            "Epoch 43/100\n",
            "12/12 [==============================] - 0s 4ms/step - loss: 0.0435 - accuracy: 1.0000 - val_loss: 4.5029 - val_accuracy: 0.3000 - _timestamp: 1654379565.0000 - _runtime: 8.0000\n",
            "Epoch 44/100\n",
            "12/12 [==============================] - 0s 5ms/step - loss: 0.0385 - accuracy: 1.0000 - val_loss: 4.5320 - val_accuracy: 0.3000 - _timestamp: 1654379565.0000 - _runtime: 8.0000\n",
            "Epoch 45/100\n",
            "12/12 [==============================] - 0s 6ms/step - loss: 0.0380 - accuracy: 1.0000 - val_loss: 4.6600 - val_accuracy: 0.3000 - _timestamp: 1654379565.0000 - _runtime: 8.0000\n",
            "Epoch 46/100\n",
            "12/12 [==============================] - 0s 4ms/step - loss: 0.0379 - accuracy: 1.0000 - val_loss: 4.5542 - val_accuracy: 0.3000 - _timestamp: 1654379565.0000 - _runtime: 8.0000\n",
            "Epoch 47/100\n",
            "12/12 [==============================] - 0s 4ms/step - loss: 0.0366 - accuracy: 1.0000 - val_loss: 4.6955 - val_accuracy: 0.3000 - _timestamp: 1654379565.0000 - _runtime: 8.0000\n",
            "Epoch 48/100\n",
            "12/12 [==============================] - 0s 5ms/step - loss: 0.0327 - accuracy: 1.0000 - val_loss: 4.6049 - val_accuracy: 0.3000 - _timestamp: 1654379566.0000 - _runtime: 9.0000\n",
            "Epoch 49/100\n",
            "12/12 [==============================] - 0s 4ms/step - loss: 0.0325 - accuracy: 1.0000 - val_loss: 4.6761 - val_accuracy: 0.3000 - _timestamp: 1654379566.0000 - _runtime: 9.0000\n",
            "Epoch 50/100\n",
            "12/12 [==============================] - 0s 4ms/step - loss: 0.0316 - accuracy: 1.0000 - val_loss: 4.6992 - val_accuracy: 0.3000 - _timestamp: 1654379566.0000 - _runtime: 9.0000\n",
            "Epoch 51/100\n",
            "12/12 [==============================] - 0s 4ms/step - loss: 0.0293 - accuracy: 1.0000 - val_loss: 4.6357 - val_accuracy: 0.3000 - _timestamp: 1654379566.0000 - _runtime: 9.0000\n",
            "Epoch 52/100\n",
            "12/12 [==============================] - 0s 4ms/step - loss: 0.0286 - accuracy: 1.0000 - val_loss: 4.6947 - val_accuracy: 0.3000 - _timestamp: 1654379566.0000 - _runtime: 9.0000\n",
            "Epoch 53/100\n",
            "12/12 [==============================] - 0s 6ms/step - loss: 0.0278 - accuracy: 1.0000 - val_loss: 4.7450 - val_accuracy: 0.3000 - _timestamp: 1654379566.0000 - _runtime: 9.0000\n",
            "Epoch 54/100\n",
            "12/12 [==============================] - 0s 4ms/step - loss: 0.0268 - accuracy: 1.0000 - val_loss: 4.8020 - val_accuracy: 0.3000 - _timestamp: 1654379566.0000 - _runtime: 9.0000\n",
            "Epoch 55/100\n",
            "12/12 [==============================] - 0s 4ms/step - loss: 0.0259 - accuracy: 1.0000 - val_loss: 4.7737 - val_accuracy: 0.3000 - _timestamp: 1654379566.0000 - _runtime: 9.0000\n",
            "Epoch 56/100\n",
            "12/12 [==============================] - 0s 4ms/step - loss: 0.0258 - accuracy: 1.0000 - val_loss: 4.7596 - val_accuracy: 0.3000 - _timestamp: 1654379566.0000 - _runtime: 9.0000\n",
            "Epoch 57/100\n",
            "12/12 [==============================] - 0s 4ms/step - loss: 0.0256 - accuracy: 1.0000 - val_loss: 4.7379 - val_accuracy: 0.3000 - _timestamp: 1654379566.0000 - _runtime: 9.0000\n",
            "Epoch 58/100\n",
            "12/12 [==============================] - 0s 4ms/step - loss: 0.0262 - accuracy: 1.0000 - val_loss: 4.7279 - val_accuracy: 0.3000 - _timestamp: 1654379566.0000 - _runtime: 9.0000\n",
            "Epoch 59/100\n",
            "12/12 [==============================] - 0s 5ms/step - loss: 0.0241 - accuracy: 1.0000 - val_loss: 4.8852 - val_accuracy: 0.3000 - _timestamp: 1654379566.0000 - _runtime: 9.0000\n",
            "Epoch 60/100\n",
            "12/12 [==============================] - 0s 4ms/step - loss: 0.0239 - accuracy: 1.0000 - val_loss: 4.8215 - val_accuracy: 0.3000 - _timestamp: 1654379566.0000 - _runtime: 9.0000\n",
            "Epoch 61/100\n",
            "12/12 [==============================] - 0s 6ms/step - loss: 0.0249 - accuracy: 1.0000 - val_loss: 4.8252 - val_accuracy: 0.3000 - _timestamp: 1654379566.0000 - _runtime: 9.0000\n",
            "Epoch 62/100\n",
            "12/12 [==============================] - 0s 4ms/step - loss: 0.0221 - accuracy: 1.0000 - val_loss: 4.8389 - val_accuracy: 0.4000 - _timestamp: 1654379566.0000 - _runtime: 9.0000\n",
            "Epoch 63/100\n",
            "12/12 [==============================] - 0s 4ms/step - loss: 0.0218 - accuracy: 1.0000 - val_loss: 4.7978 - val_accuracy: 0.3000 - _timestamp: 1654379567.0000 - _runtime: 10.0000\n",
            "Epoch 64/100\n",
            "12/12 [==============================] - 0s 4ms/step - loss: 0.0216 - accuracy: 1.0000 - val_loss: 4.8659 - val_accuracy: 0.3000 - _timestamp: 1654379567.0000 - _runtime: 10.0000\n",
            "Epoch 65/100\n",
            "12/12 [==============================] - 0s 4ms/step - loss: 0.0203 - accuracy: 1.0000 - val_loss: 4.7630 - val_accuracy: 0.4000 - _timestamp: 1654379567.0000 - _runtime: 10.0000\n",
            "Epoch 66/100\n",
            "12/12 [==============================] - 0s 5ms/step - loss: 0.0203 - accuracy: 1.0000 - val_loss: 4.8594 - val_accuracy: 0.4000 - _timestamp: 1654379567.0000 - _runtime: 10.0000\n",
            "Epoch 67/100\n",
            "12/12 [==============================] - 0s 4ms/step - loss: 0.0199 - accuracy: 1.0000 - val_loss: 4.9523 - val_accuracy: 0.3000 - _timestamp: 1654379567.0000 - _runtime: 10.0000\n",
            "Epoch 68/100\n",
            "12/12 [==============================] - 0s 4ms/step - loss: 0.0185 - accuracy: 1.0000 - val_loss: 4.7891 - val_accuracy: 0.4000 - _timestamp: 1654379567.0000 - _runtime: 10.0000\n",
            "Epoch 69/100\n",
            "12/12 [==============================] - 0s 4ms/step - loss: 0.0189 - accuracy: 1.0000 - val_loss: 4.9165 - val_accuracy: 0.4000 - _timestamp: 1654379567.0000 - _runtime: 10.0000\n",
            "Epoch 70/100\n",
            "12/12 [==============================] - 0s 4ms/step - loss: 0.0182 - accuracy: 1.0000 - val_loss: 5.0086 - val_accuracy: 0.3000 - _timestamp: 1654379567.0000 - _runtime: 10.0000\n",
            "Epoch 71/100\n",
            "12/12 [==============================] - 0s 4ms/step - loss: 0.0176 - accuracy: 1.0000 - val_loss: 4.8790 - val_accuracy: 0.3000 - _timestamp: 1654379567.0000 - _runtime: 10.0000\n",
            "Epoch 72/100\n",
            "12/12 [==============================] - 0s 4ms/step - loss: 0.0170 - accuracy: 1.0000 - val_loss: 4.8971 - val_accuracy: 0.4000 - _timestamp: 1654379567.0000 - _runtime: 10.0000\n",
            "Epoch 73/100\n",
            "12/12 [==============================] - 0s 4ms/step - loss: 0.0169 - accuracy: 1.0000 - val_loss: 4.8876 - val_accuracy: 0.4000 - _timestamp: 1654379567.0000 - _runtime: 10.0000\n",
            "Epoch 74/100\n",
            "12/12 [==============================] - 0s 4ms/step - loss: 0.0167 - accuracy: 1.0000 - val_loss: 4.7984 - val_accuracy: 0.3000 - _timestamp: 1654379567.0000 - _runtime: 10.0000\n",
            "Epoch 75/100\n",
            "12/12 [==============================] - 0s 7ms/step - loss: 0.0167 - accuracy: 1.0000 - val_loss: 4.9307 - val_accuracy: 0.4000 - _timestamp: 1654379567.0000 - _runtime: 10.0000\n",
            "Epoch 76/100\n",
            "12/12 [==============================] - 0s 6ms/step - loss: 0.0156 - accuracy: 1.0000 - val_loss: 4.8218 - val_accuracy: 0.4000 - _timestamp: 1654379567.0000 - _runtime: 10.0000\n",
            "Epoch 77/100\n",
            "12/12 [==============================] - 0s 4ms/step - loss: 0.0154 - accuracy: 1.0000 - val_loss: 4.8616 - val_accuracy: 0.4000 - _timestamp: 1654379567.0000 - _runtime: 10.0000\n",
            "Epoch 78/100\n",
            "12/12 [==============================] - 0s 5ms/step - loss: 0.0159 - accuracy: 1.0000 - val_loss: 5.0241 - val_accuracy: 0.4000 - _timestamp: 1654379568.0000 - _runtime: 11.0000\n",
            "Epoch 79/100\n",
            "12/12 [==============================] - 0s 5ms/step - loss: 0.0153 - accuracy: 1.0000 - val_loss: 4.8962 - val_accuracy: 0.4000 - _timestamp: 1654379568.0000 - _runtime: 11.0000\n",
            "Epoch 80/100\n",
            "12/12 [==============================] - 0s 5ms/step - loss: 0.0160 - accuracy: 1.0000 - val_loss: 4.9645 - val_accuracy: 0.3000 - _timestamp: 1654379568.0000 - _runtime: 11.0000\n",
            "Epoch 81/100\n",
            "12/12 [==============================] - 0s 5ms/step - loss: 0.0170 - accuracy: 1.0000 - val_loss: 4.8690 - val_accuracy: 0.4000 - _timestamp: 1654379568.0000 - _runtime: 11.0000\n",
            "Epoch 82/100\n",
            "12/12 [==============================] - 0s 4ms/step - loss: 0.0150 - accuracy: 1.0000 - val_loss: 4.9862 - val_accuracy: 0.3000 - _timestamp: 1654379568.0000 - _runtime: 11.0000\n",
            "Epoch 83/100\n",
            "12/12 [==============================] - 0s 4ms/step - loss: 0.0141 - accuracy: 1.0000 - val_loss: 4.9881 - val_accuracy: 0.3000 - _timestamp: 1654379568.0000 - _runtime: 11.0000\n",
            "Epoch 84/100\n",
            "12/12 [==============================] - 0s 4ms/step - loss: 0.0137 - accuracy: 1.0000 - val_loss: 5.0500 - val_accuracy: 0.3000 - _timestamp: 1654379568.0000 - _runtime: 11.0000\n",
            "Epoch 85/100\n",
            "12/12 [==============================] - 0s 4ms/step - loss: 0.0136 - accuracy: 1.0000 - val_loss: 5.0725 - val_accuracy: 0.3000 - _timestamp: 1654379568.0000 - _runtime: 11.0000\n",
            "Epoch 86/100\n",
            "12/12 [==============================] - 0s 4ms/step - loss: 0.0128 - accuracy: 1.0000 - val_loss: 4.9814 - val_accuracy: 0.3000 - _timestamp: 1654379568.0000 - _runtime: 11.0000\n",
            "Epoch 87/100\n",
            "12/12 [==============================] - 0s 4ms/step - loss: 0.0131 - accuracy: 1.0000 - val_loss: 5.0630 - val_accuracy: 0.4000 - _timestamp: 1654379568.0000 - _runtime: 11.0000\n",
            "Epoch 88/100\n",
            "12/12 [==============================] - 0s 4ms/step - loss: 0.0123 - accuracy: 1.0000 - val_loss: 5.0297 - val_accuracy: 0.4000 - _timestamp: 1654379568.0000 - _runtime: 11.0000\n",
            "Epoch 89/100\n",
            "12/12 [==============================] - 0s 5ms/step - loss: 0.0125 - accuracy: 1.0000 - val_loss: 5.0470 - val_accuracy: 0.3000 - _timestamp: 1654379568.0000 - _runtime: 11.0000\n",
            "Epoch 90/100\n",
            "12/12 [==============================] - 0s 4ms/step - loss: 0.0120 - accuracy: 1.0000 - val_loss: 5.0183 - val_accuracy: 0.4000 - _timestamp: 1654379568.0000 - _runtime: 11.0000\n",
            "Epoch 91/100\n",
            "12/12 [==============================] - 0s 4ms/step - loss: 0.0117 - accuracy: 1.0000 - val_loss: 5.0783 - val_accuracy: 0.4000 - _timestamp: 1654379568.0000 - _runtime: 11.0000\n",
            "Epoch 92/100\n",
            "12/12 [==============================] - 0s 5ms/step - loss: 0.0115 - accuracy: 1.0000 - val_loss: 5.0833 - val_accuracy: 0.4000 - _timestamp: 1654379568.0000 - _runtime: 11.0000\n",
            "Epoch 93/100\n",
            "12/12 [==============================] - 0s 4ms/step - loss: 0.0114 - accuracy: 1.0000 - val_loss: 5.0447 - val_accuracy: 0.4000 - _timestamp: 1654379568.0000 - _runtime: 11.0000\n",
            "Epoch 94/100\n",
            "12/12 [==============================] - 0s 4ms/step - loss: 0.0109 - accuracy: 1.0000 - val_loss: 5.1254 - val_accuracy: 0.4000 - _timestamp: 1654379569.0000 - _runtime: 12.0000\n",
            "Epoch 95/100\n",
            "12/12 [==============================] - 0s 4ms/step - loss: 0.0109 - accuracy: 1.0000 - val_loss: 5.0944 - val_accuracy: 0.4000 - _timestamp: 1654379569.0000 - _runtime: 12.0000\n",
            "Epoch 96/100\n",
            "12/12 [==============================] - 0s 4ms/step - loss: 0.0109 - accuracy: 1.0000 - val_loss: 5.1239 - val_accuracy: 0.4000 - _timestamp: 1654379569.0000 - _runtime: 12.0000\n",
            "Epoch 97/100\n",
            "12/12 [==============================] - 0s 4ms/step - loss: 0.0105 - accuracy: 1.0000 - val_loss: 5.1189 - val_accuracy: 0.4000 - _timestamp: 1654379569.0000 - _runtime: 12.0000\n",
            "Epoch 98/100\n",
            "12/12 [==============================] - 0s 4ms/step - loss: 0.0108 - accuracy: 1.0000 - val_loss: 5.1706 - val_accuracy: 0.4000 - _timestamp: 1654379569.0000 - _runtime: 12.0000\n",
            "Epoch 99/100\n",
            "12/12 [==============================] - 0s 4ms/step - loss: 0.0104 - accuracy: 1.0000 - val_loss: 5.1365 - val_accuracy: 0.4000 - _timestamp: 1654379569.0000 - _runtime: 12.0000\n",
            "Epoch 100/100\n",
            "12/12 [==============================] - 0s 5ms/step - loss: 0.0107 - accuracy: 1.0000 - val_loss: 5.1413 - val_accuracy: 0.4000 - _timestamp: 1654379569.0000 - _runtime: 12.0000\n"
          ]
        },
        {
          "output_type": "execute_result",
          "data": {
            "text/plain": [
              "<keras.callbacks.History at 0x7fcffbe9b950>"
            ]
          },
          "metadata": {},
          "execution_count": 26
        }
      ]
    }
  ]
}